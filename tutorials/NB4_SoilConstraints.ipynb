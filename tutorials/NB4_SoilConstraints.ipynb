{
 "cells": [
  {
   "attachments": {},
   "cell_type": "markdown",
   "metadata": {},
   "source": [
    "# Notebook IV - Soil Constraints\n",
    "\n",
    "<hr>\n",
    "This module, after applying climatic constraints, will be continued to apply yield reduction due to soil constraints. Soil constraints works with combination of seven soil qualities into soil ratings (a single yield reduction factor). This module works with soil properties provided from soil map and each soil mapping unit's unique physical and chemical properties, and LUT-specific soil suitability\n",
    "rating as excel sheets\n",
    "\n",
    "Prepared by Geoinformatics Center, AIT\n",
    "<hr>"
   ]
  },
  {
   "attachments": {},
   "cell_type": "markdown",
   "metadata": {},
   "source": [
    "### Google drive connection\n",
    "In this step, we will connect to Google Drive service and mount the drive where we will start our PyAEZ project"
   ]
  },
  {
   "cell_type": "code",
   "execution_count": null,
   "metadata": {},
   "outputs": [],
   "source": [
    "# from google.colab import drive\n",
    "# drive.mount('/content/gdrive', force_remount=True)"
   ]
  },
  {
   "attachments": {},
   "cell_type": "markdown",
   "metadata": {},
   "source": [
    "Then, installing any additional python packages that required to run PyAEZ.\n",
    "If working on your own PC/machine, these additional installation will vary depending on what is already installed in your Python library. "
   ]
  },
  {
   "cell_type": "code",
   "execution_count": null,
   "metadata": {},
   "outputs": [],
   "source": [
    "# 'Installing neccessary packages'\n",
    "# !pip install gdal"
   ]
  },
  {
   "attachments": {},
   "cell_type": "markdown",
   "metadata": {},
   "source": [
    "## Importing Libraries"
   ]
  },
  {
   "cell_type": "code",
   "execution_count": null,
   "metadata": {},
   "outputs": [],
   "source": [
    "'''import supporting libraries'''\n",
    "# import pyaez\n",
    "import matplotlib.pyplot as plt\n",
    "import numpy as np\n",
    "import pandas as pd\n",
    "import os\n",
    "try:\n",
    "    from osgeo import gdal\n",
    "except:\n",
    "    import gdal\n",
    "import sys"
   ]
  },
  {
   "attachments": {},
   "cell_type": "markdown",
   "metadata": {},
   "source": [
    "Setting the working directory -- where our PyAEZ project is located."
   ]
  },
  {
   "cell_type": "code",
   "execution_count": null,
   "metadata": {},
   "outputs": [],
   "source": [
    "'Set the working directory'\n",
    "work_dir = r'D:\\test_working_folder'  # Please change this to your working directory\n",
    "os.chdir(work_dir)\n",
    "sys.path.append('D:\\PyAEZ_iiasa')\n",
    "os.getcwd()\n"
   ]
  },
  {
   "attachments": {},
   "cell_type": "markdown",
   "metadata": {},
   "source": [
    "Check and create data output folder"
   ]
  },
  {
   "cell_type": "code",
   "execution_count": null,
   "metadata": {},
   "outputs": [],
   "source": [
    "import os\n",
    "folder_path = './data_output/NB4/'\n",
    "if not os.path.exists(folder_path):\n",
    "    os.makedirs(folder_path)\n",
    "    print(\"Folder created successfully.\")\n",
    "else:\n",
    "    print(\"Folder already exists.\")\n"
   ]
  },
  {
   "attachments": {},
   "cell_type": "markdown",
   "metadata": {},
   "source": [
    "## Applying Soil Constraints"
   ]
  },
  {
   "cell_type": "code",
   "execution_count": null,
   "metadata": {},
   "outputs": [],
   "source": [
    "'''importing library'''\n",
    "\n",
    "from pyaez import SoilConstraints\n",
    "soil_constraints = SoilConstraints.SoilConstraints(method = 1)\n",
    "\n",
    "from pyaez import UtilitiesCalc\n",
    "obj_utilities = UtilitiesCalc.UtilitiesCalc()"
   ]
  },
  {
   "cell_type": "code",
   "execution_count": null,
   "metadata": {},
   "outputs": [],
   "source": [
    "'''reading data'''\n",
    "basefilepath = r'D:\\PyAEZ_iiasa\\data_input\\LAO_Admin.tif'\n",
    "\n",
    "yield_map_rain = gdal.Open(r'./data_output/NB3/clim_maiz_yld_rain.tif').ReadAsArray()\n",
    "yield_map_irr = gdal.Open(r'./data_output/NB3/clim_maiz_yld_irr.tif').ReadAsArray()\n",
    "\n",
    "soil_map = gdal.Open(r'D:\\PyAEZ_iiasa\\data_input/Lao_Soil.tif').ReadAsArray()"
   ]
  },
  {
   "cell_type": "markdown",
   "metadata": {},
   "source": [
    "(New) All Soil Suitability Ratings can now be provided as excel sheet."
   ]
  },
  {
   "cell_type": "code",
   "execution_count": null,
   "metadata": {},
   "outputs": [],
   "source": [
    "soil_constraints.importSoilReductionSheet(rain_sheet_path=r'D:\\PyAEZ_iiasa\\data_input\\maiz_soil_params_rain.xlsx',\n",
    "                             irr_sheet_path=r'D:\\PyAEZ_iiasa\\data_input\\maiz_soil_params_irr.xlsx')"
   ]
  },
  {
   "cell_type": "code",
   "execution_count": null,
   "metadata": {},
   "outputs": [],
   "source": [
    "'''calculate soil qualities and ratings and applying soil constraints - Rain-fed'''\n",
    "\n",
    "soil_constraints.calculateSoilQualities(irr_or_rain='R', topsoil_path= r'D:\\PyAEZ_iiasa\\data_input\\maiz_soil_characteristics_topsoil.xlsx',\n",
    "                                         subsoil_path= r'D:\\PyAEZ_iiasa\\data_input\\maiz_soil_characteristics_subsoil.xlsx') # I: Irrigated, R: Rain-fed\n",
    "\n",
    "# Calculate Soil rating for each SMU at a given input/management level\n",
    "soil_constraints.calculateSoilRatings('H') # L: Low, I: Intermediate, H: High input"
   ]
  },
  {
   "cell_type": "markdown",
   "metadata": {},
   "source": [
    "Seeing the calculated soil qualities (Rainfed)"
   ]
  },
  {
   "cell_type": "code",
   "execution_count": null,
   "metadata": {},
   "outputs": [],
   "source": [
    "np.set_printoptions(precision = 2)\n",
    "# result as pandas array\n",
    "soil_constraints.getSoilQualities()"
   ]
  },
  {
   "cell_type": "markdown",
   "metadata": {},
   "source": [
    "Seeing soil rating results for each SMU (Rainfed)"
   ]
  },
  {
   "cell_type": "code",
   "execution_count": null,
   "metadata": {},
   "outputs": [],
   "source": [
    "soil_constraints.calculateSoilRatings(input_level= 'H')\n",
    "\n",
    "# 1st column: SMUs, 2nd column, soil constraint factors\n",
    "print(soil_constraints.getSoilRatings())"
   ]
  },
  {
   "cell_type": "code",
   "execution_count": null,
   "metadata": {},
   "outputs": [],
   "source": [
    "# getting the soil ratings\n",
    "soil_constraints.getSoilRatings()"
   ]
  },
  {
   "cell_type": "markdown",
   "metadata": {},
   "source": [
    "From the calculated soil qualities, the next step is to calculated soil rating for edaphic yield reduction."
   ]
  },
  {
   "cell_type": "code",
   "execution_count": null,
   "metadata": {},
   "outputs": [],
   "source": [
    "yield_map_rain_m4 = soil_constraints.applySoilConstraints(soil_map, yield_map_rain)\n",
    "\n",
    "## get classified output\n",
    "# yield_map_rain_class_m4 = obj_utilities.classifyFinalYield(yield_map_rain_m4)\n",
    "\n",
    "fc4_rain = soil_constraints.getSoilSuitabilityMap()"
   ]
  },
  {
   "cell_type": "code",
   "execution_count": null,
   "metadata": {},
   "outputs": [],
   "source": [
    "'''visualize results'''\n",
    "plt.figure(1, figsize=(25,9))\n",
    "plt.subplot(1,3,1)\n",
    "plt.imshow(yield_map_rain, vmax = np.max([yield_map_rain_m4, yield_map_rain]))\n",
    "plt.colorbar(shrink=0.8)\n",
    "plt.title('Original Rainfed Yield Maize')\n",
    "\n",
    "plt.subplot(1,3,2)\n",
    "plt.imshow(yield_map_rain_m4, vmax = np.max([yield_map_rain_m4, yield_map_rain]))\n",
    "plt.colorbar(shrink=0.8)\n",
    "plt.title('Soil Constrainted Rainfed Yield Maize')\n",
    "\n",
    "plt.subplot(1,3,3)\n",
    "plt.imshow(fc4_rain,)\n",
    "plt.colorbar(shrink=0.8)\n",
    "plt.title('Soil Constraint Factor (fc4) Rainfed')\n"
   ]
  },
  {
   "cell_type": "code",
   "execution_count": null,
   "metadata": {},
   "outputs": [],
   "source": [
    "# ''save result'''\n",
    "\n",
    "obj_utilities.saveRaster(basefilepath, './data_output/NB4/soil_clim_yld_maiz_rain.tif', yield_map_rain_m4)\n",
    "obj_utilities.saveRaster(basefilepath, './data_output/NB4/maiz_fc4_rain.tif', fc4_rain)"
   ]
  },
  {
   "cell_type": "markdown",
   "metadata": {},
   "source": [
    "Now, we're applying soil constraints for irrigated conditions"
   ]
  },
  {
   "cell_type": "code",
   "execution_count": null,
   "metadata": {},
   "outputs": [],
   "source": [
    "'''calculate soil qualities and ratings and applying soil constraints - Irrigated'''\n",
    "\n",
    "soil_constraints.calculateSoilQualities(irr_or_rain='I', topsoil_path= r'D:\\PyAEZ_iiasa\\data_input\\maiz_soil_characteristics_topsoil.xlsx',\n",
    "                                         subsoil_path= r'D:\\PyAEZ_iiasa\\data_input\\maiz_soil_characteristics_subsoil.xlsx') # I: Irrigated, R: Rain-fed\n",
    "\n",
    "# Calculate Soil rating for each SMU at a given input/management level\n",
    "soil_constraints.calculateSoilRatings('H') # L: Low, I: Intermediate, H: High input"
   ]
  },
  {
   "cell_type": "markdown",
   "metadata": {},
   "source": [
    "Seeing the calculated soil qualities (Irrigated)"
   ]
  },
  {
   "cell_type": "code",
   "execution_count": null,
   "metadata": {},
   "outputs": [],
   "source": [
    "np.set_printoptions(precision = 2)\n",
    "# result as pandas array\n",
    "soil_constraints.getSoilQualities()"
   ]
  },
  {
   "cell_type": "markdown",
   "metadata": {},
   "source": [
    "Seeing soil rating results for each SMU (Rainfed)"
   ]
  },
  {
   "cell_type": "code",
   "execution_count": null,
   "metadata": {},
   "outputs": [],
   "source": [
    "# 1st column: SMUs, 2nd column, soil constraint factors\n",
    "print(soil_constraints.getSoilRatings())"
   ]
  },
  {
   "cell_type": "markdown",
   "metadata": {},
   "source": [
    "From the calculated soil qualities, the next step is to calculated soil rating for edaphic yield reduction."
   ]
  },
  {
   "cell_type": "code",
   "execution_count": null,
   "metadata": {},
   "outputs": [],
   "source": [
    "yield_map_irr_m4 = soil_constraints.applySoilConstraints(soil_map, yield_map_irr)\n",
    "\n",
    "## get classified output\n",
    "# yield_map_rain_class_m4 = obj_utilities.classifyFinalYield(yield_map_rain_m4)\n",
    "\n",
    "fc4_irr = soil_constraints.getSoilSuitabilityMap()"
   ]
  },
  {
   "cell_type": "code",
   "execution_count": null,
   "metadata": {},
   "outputs": [],
   "source": [
    "'''visualize results'''\n",
    "plt.figure(1, figsize=(25,9))\n",
    "plt.subplot(1,3,1)\n",
    "plt.imshow(yield_map_irr, vmax = np.max([yield_map_irr_m4, yield_map_irr]))\n",
    "plt.colorbar(shrink=0.8)\n",
    "plt.title('Original Irrigated Yield Maize')\n",
    "\n",
    "plt.subplot(1,3,2)\n",
    "plt.imshow(yield_map_irr_m4, vmax = np.max([yield_map_irr_m4, yield_map_irr]))\n",
    "plt.colorbar(shrink=0.8)\n",
    "plt.title('Soil Constrainted Irrigated Yield Maize')\n",
    "\n",
    "plt.subplot(1,3,3)\n",
    "plt.imshow(fc4_rain, vmax = 1, vmin = 0)\n",
    "plt.colorbar(shrink=0.8)\n",
    "plt.title('Soil Constraint Factor (fc4) Irrigated')"
   ]
  },
  {
   "cell_type": "code",
   "execution_count": null,
   "metadata": {},
   "outputs": [],
   "source": [
    "# saving the outputs\n",
    "obj_utilities.saveRaster(basefilepath, './data_output/NB4/soil_clim_yld_maiz_rain.tif',yield_map_irr_m4)\n",
    "obj_utilities.saveRaster(basefilepath, './data_output/NB4/maiz_fc4_irr.tif',fc4_irr)"
   ]
  },
  {
   "attachments": {},
   "cell_type": "markdown",
   "metadata": {},
   "source": [
    "<hr>\n",
    "\n",
    "### END OF MODULE 4: SOIL CONSTRAINTS\n",
    "\n",
    "<hr>"
   ]
  }
 ],
 "metadata": {
  "kernelspec": {
   "display_name": "Python 3",
   "language": "python",
   "name": "python3"
  },
  "language_info": {
   "codemirror_mode": {
    "name": "ipython",
    "version": 3
   },
   "file_extension": ".py",
   "mimetype": "text/x-python",
   "name": "python",
   "nbconvert_exporter": "python",
   "pygments_lexer": "ipython3",
   "version": "3.9.13"
  }
 },
 "nbformat": 4,
 "nbformat_minor": 2
}
